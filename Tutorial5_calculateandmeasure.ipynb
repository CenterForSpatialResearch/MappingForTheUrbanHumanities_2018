{
  "nbformat": 4,
  "nbformat_minor": 0,
  "metadata": {
    "colab": {
      "name": "Tutorial5_calculateandmeasure.ipynb",
      "version": "0.3.2",
      "provenance": [],
      "collapsed_sections": [],
      "include_colab_link": true
    },
    "kernelspec": {
      "name": "python3",
      "display_name": "Python 3"
    }
  },
  "cells": [
    {
      "cell_type": "markdown",
      "metadata": {
        "id": "view-in-github",
        "colab_type": "text"
      },
      "source": [
        "<a href=\"https://colab.research.google.com/github/bbzing/mapping_for_the_urban_humanities/blob/master/Tutorial5_calculateandmeasure.ipynb\" target=\"_parent\"><img src=\"https://colab.research.google.com/assets/colab-badge.svg\" alt=\"Open In Colab\"/></a>"
      ]
    },
    {
      "cell_type": "code",
      "metadata": {
        "id": "Ke6VEHFarEw-",
        "colab_type": "code",
        "colab": {}
      },
      "source": [
        "\n"
      ],
      "execution_count": 0,
      "outputs": []
    },
    {
      "cell_type": "markdown",
      "metadata": {
        "id": "SoH-37ZnrPXD",
        "colab_type": "text"
      },
      "source": [
        "### Tutorial 5: tools for thought\n",
        "\n",
        "\n",
        "#### Why do we make maps? Over the past few days, maps have mainly been tools to represent data. In this tutorial, you will learn some of the key methods for formal geospatial *analysis*,* including how to:\n",
        "\n",
        "- Dissolve geographies and data into larger spatial units\n",
        "- Calculate areas of geographies\n",
        "- Calculate the sums, means and other summary statistics on the data aggregated into larger geographies.\n",
        "- Join information based on location (\"spatial joins\")\n",
        "- Perform summary statistics inside a spatial join.\n",
        "\n",
        "*As scholars of the humanities, you know better than we do that analysis can occur in multiple ways!\n",
        "\n",
        "\n",
        "### Dissolve: scale up and look at speakers by neighborhood\n",
        "\n",
        "Describing library policy by tract doesn’t make sense; libraries serve neighborhoods. In lieu of figuring out the geographies of library catchment areas (likely overlapping!), we can use the neighborhood-tract-area (NTA) as a stand-in. These areas overlap roughly with the ‘named’ neighborhoods of New York City, as well as with the community board (and city council representative) areas. We'll start off at the end of Tutorial 4: with our map of Russian speakers and institutions. ![endof4]\n",
        "\n",
        "#### Step 1: Aggregate the tracts into neighborhoods\n",
        "\n",
        "GIS allows users to m----erge spatial divisions. One common method is to add up all of the spatial attributes that are inside of a bigger area - in our case tracts into neighborhoods. \n",
        "\n",
        "In the ‘toolbox’ ![gear] or `processing: toolbox` , search for ‘dissolve’. The basic QGIS function only changes the geography, so we’ll use the accessory GDAL tool ![gdal]. Double-click, and then in the window that opens, \n",
        "- Select the input layer of census tracts with the language information attached. \n",
        "- Select ‘NTACode’ from the drop-down menu for `Dissolve Field` - NTA is the geography that we want to scale up to.\n",
        "- Tick the box for `Compute max/min/sum/mean` and then select `Russian` in the drop-down menu right below. This action will make sure that we keep the number we need - the total number of Russian speakers over space. You can specify that it save to a new file, but it’s fine to save as a temporary layer (it will show up as *dissolve* on your layer bar), and then after checking for errors you can export as a shape file. \n",
        "![dissolve]\n",
        "\n",
        "#### *Troubleshooting*\n",
        "In some cases, there’s a [documented glitch](https://gis.stackexchange.com/questions/276853/gdal-scripts-not-found-in-qgis-3-on-osx) inside Q that results in an error message after any attempt to use the GDAL dissolve function. To fix, go to Q’s `Settings:Options:System:Environment, then Enable `Use Custom Variables`. Select \"Prepend\" and then, under variable, enter *PATH*, and under value enter\n",
        "*/Library/Frameworks/GDAL.framework/Programs:/Library/Frameworks/Python.framework/Versions/3.6/bin:* \n",
        "\n",
        "\n",
        "#### Step 2: But not all the neighborhoods are the same size: calculate the area of the polygons in square kilometers. \n",
        "\n",
        "Our file - and most that have geography - already has a column `AREA`. The information there, and the default, is always square meters. This is precise, but hard to read and not often used to compare large areas. \n",
        "\n",
        "Calculating a new column for area is straight-forward: open the attribute table, and click on `new field`. Then type in $AREA *.000001. (this number is to convert the square meters into square kilometers; there are a million square meters in a square kilometer).\n",
        "![areakm]\n",
        "\n",
        "#### Step 3: Calculate density of Russian speakers by square kilometer\n",
        "\n",
        "What if a critical factor to support language maintanence is the actual proximity to other speakers. To be more honest, density might as a weak proxy for the likelihood that Russian speakers will bump into each other and chat; access and distance are not the same!\n",
        "\n",
        "To calculate this, simply open the attribute field of our new layer and open the calculator ![fieldcalc], and select `make new field`. Name the field, then type in or select the variable for the number of Russian speakers and divide by area:  `10Russian`/ `AREA_KM2` . Check by opening the attribute table.\n",
        "\n",
        "![calculatedensity]\n",
        "\n",
        "- Sort by high to low : what do you notice? Does the geography make sense? \n",
        "- How do you (and will you!) navigate using numbers that are true, but might be misleading in your own work?\n",
        "\n",
        "To complete this analysis, navigate to your new variable showing density of speakers, and depict on the map using a graduated symbology. \n",
        "- Does it show anything unexpected? \n",
        "- *Side note: Notice that the size, placement and shape of relatively arbitrary administrative divisions often translates into greater or lower visibility. But many of the neighborhood divisions also have a basis in some structural spatial factors; e.g. natural or human barriers such as highways and creeks, or geological hardnesses of soils, or discriminatory lending maps - in other words, they often aren't arbitrary at all, but it takes work to unpack.*\n",
        "\n",
        "### Task 2: Calculate institutional density: spatial join and points-to-polygon\n",
        "\n",
        "We could count each of our mapped spaces where Russian is spoken and then add them up by neighborhood. Or we could choose to show as-is, as points. But what about single buildings (or neighboring buildings) that house multiple meaningful places of language maintanence, such as a church with weekly services that rents their basement out to a Pushkin poetry group? Or a library with a literature group as well as a story hour and a monthly radio show (true!). These wouldn't communicate as points; only one would be visible. To show density, we want to add them up by neighborhood. *This is also useful for larger datasets, obviously!*\n",
        "\n",
        "The #### spatial join \n",
        "is one of the most powerful tools that GIS can deliver - it can identify what parts of your information are related somehow *in space* and not by any other characteristic. The tool itself is straight-forward. \n",
        "- Open the processing toolbox ![gear] and either navigate to `vector general` and then ####`join attributes by location`#### or just search for \"location\". There are two options: we want the one with (summary): it will calculate contents of columns being brought in.\n",
        "- Select your dissolved layer as the `input layer`- that's what we want to bring the points into. \n",
        "- Then select Russian spaces of language use as the `join layer`.\n",
        "- Doing the spatial join with summary means we can ask for information on the NTA-level data of our institutions. We don't have too many variables to choose from, but the one we want for sure is #### the number of institutions in the NTA = > `count`\n",
        "- For fun, you can also add `mean` and the indexes calculated for scale, intensity and frequency. Note to calculate summaries, text variables won't work. \n",
        "![spatialjoin]\n",
        "![spatialjoin2]\n",
        "\n",
        "[endof4]: Images/2019/Tutorial5_endof4.png\n",
        "\n",
        "[gear]: Images/2019/Tutorial5_gear.png\n",
        "\n",
        "[gdal]: Images/2019/Tutorial5_gdal.png\n",
        "\n",
        "[areakm]: Images/2019/Tutorial5_areakm.png\n",
        "\n",
        "[dissolve]: Images/2019/Tutorial5_dissolve.png\n",
        "\n",
        "[fieldcalc]: Images/2019/Tutorial5_fieldcalc.png\n",
        "\n",
        "[calculatedensity]: Images/2019/Tutorial5_calculatedensity.png\n",
        "\n",
        "[spatialjoin]: Images/2019/Tutorial5_spatialjoin.png\n",
        "\n",
        "[spatialjoin2]: Images/2019/Tutorial5_spatialjoin2.png\n",
        "\n"
      ]
    }
  ]
}